{
  "nbformat": 4,
  "nbformat_minor": 0,
  "metadata": {
    "colab": {
      "name": "Language Model.ipynb",
      "provenance": [],
      "collapsed_sections": [],
      "authorship_tag": "ABX9TyNzH7bRE+QCWJWGpGHccpzk",
      "include_colab_link": true
    },
    "kernelspec": {
      "name": "python3",
      "display_name": "Python 3"
    },
    "language_info": {
      "name": "python"
    }
  },
  "cells": [
    {
      "cell_type": "markdown",
      "metadata": {
        "id": "view-in-github",
        "colab_type": "text"
      },
      "source": [
        "<a href=\"https://colab.research.google.com/github/ahmedbahaaeldin/Introduction-to-NLP-Class/blob/main/Language_Model.ipynb\" target=\"_parent\"><img src=\"https://colab.research.google.com/assets/colab-badge.svg\" alt=\"Open In Colab\"/></a>"
      ]
    },
    {
      "cell_type": "code",
      "metadata": {
        "id": "zAsU-lGrD2yD"
      },
      "source": [
        "import re\n",
        "f = open(\"9053.txt\", \"r\")\n",
        "Dataset = []\n",
        "for line in f:\n",
        "   line = re.sub(r'\\@\\@\\d{8} \\@\\d{7}/','',line)\n",
        "   line = re.sub(r'<h>|<p>','',line)\n",
        "   line = re.sub(r'  ',' ',line)\n",
        "   line = re.sub(r'\\@','',line)\n",
        "   Dataset.append(line)"
      ],
      "execution_count": 53,
      "outputs": []
    },
    {
      "cell_type": "code",
      "metadata": {
        "id": "Z8bWuno5Aj6p"
      },
      "source": [
        "def Bigram(string):\n",
        "    string = \"<START> \"+string+\" <END>\"\n",
        "    word_list = string.split(' ')\n",
        "    bigrams = []\n",
        "    for i in range(len(word_list)-1):\n",
        "        # TODO\n",
        "    return bigrams"
      ],
      "execution_count": 29,
      "outputs": []
    },
    {
      "cell_type": "code",
      "metadata": {
        "id": "hBtTwz5pFsUb"
      },
      "source": [
        "string = \"Hello world\"\n",
        "assert len(Bigram(string)) == 3"
      ],
      "execution_count": 30,
      "outputs": []
    },
    {
      "cell_type": "code",
      "metadata": {
        "id": "93azsp17A8sQ"
      },
      "source": [
        "def Trigram(string):\n",
        "    string = \"<START> \"+ string +\" <END>\"\n",
        "    word_list = string.split(' ')\n",
        "    Trigrams = []\n",
        "    for i in range(len(word_list)-2):\n",
        "        Trigrams.append([word_list[i],word_list[i+1],word_list[i+2]])\n",
        "    return Trigrams"
      ],
      "execution_count": 40,
      "outputs": []
    },
    {
      "cell_type": "code",
      "metadata": {
        "id": "ilx2mETkA_UO"
      },
      "source": [
        "string = \"Hello world today is good\"\n",
        "assert len(Trigram(string)) == 5"
      ],
      "execution_count": null,
      "outputs": []
    },
    {
      "cell_type": "code",
      "metadata": {
        "id": "KlMStvXTHCI3"
      },
      "source": [
        "from collections import Counter, defaultdict\n",
        "Total_Count = 0\n",
        "Trigram_Dict = defaultdict(lambda: defaultdict(lambda: 0))\n",
        "for line in Dataset:\n",
        "    list_of_grams = Trigram(line)\n",
        "    Total_Count += len(list_of_grams)\n",
        "    for w1,w2,w3 in list_of_grams:\n",
        "       Trigram_Dict[(w1, w2)][w3] += 1"
      ],
      "execution_count": 76,
      "outputs": []
    },
    {
      "cell_type": "code",
      "metadata": {
        "id": "MjVA6cZ_He0q"
      },
      "source": [
        "for w1_w2 in Trigram_Dict:\n",
        "    for w3 in Trigram_Dict[w1_w2]:\n",
        "        Trigram_Dict[w1_w2][w3] /=  Total_Count"
      ],
      "execution_count": 81,
      "outputs": []
    },
    {
      "cell_type": "code",
      "metadata": {
        "colab": {
          "base_uri": "https://localhost:8080/"
        },
        "id": "fq_B6tgNOAAE",
        "outputId": "a4a7ee17-82cb-45ef-ab13-92aa83b979d6"
      },
      "source": [
        "Trigram_Dict['about','that']"
      ],
      "execution_count": 95,
      "outputs": [
        {
          "output_type": "execute_result",
          "data": {
            "text/plain": [
              "defaultdict(<function __main__.<lambda>.<locals>.<lambda>>,\n",
              "            {\"'s\": 4.739235419149828e-06,\n",
              "             'about': 0.0,\n",
              "             'idea': 2.369617709574914e-06,\n",
              "             'now': 4.739235419149828e-06,\n",
              "             'one': 4.739235419149828e-06,\n",
              "             'single': 2.369617709574914e-06,\n",
              "             'stuff': 2.369617709574914e-06,\n",
              "             'that': 0.0})"
            ]
          },
          "metadata": {
            "tags": []
          },
          "execution_count": 95
        }
      ]
    },
    {
      "cell_type": "code",
      "metadata": {
        "colab": {
          "base_uri": "https://localhost:8080/"
        },
        "id": "NgE8IYJbJidp",
        "outputId": "9cabd90d-89d6-4c55-8f4d-c622c1ce79a2"
      },
      "source": [
        "Trigram_Dict['after','the']"
      ],
      "execution_count": 87,
      "outputs": [
        {
          "output_type": "execute_result",
          "data": {
            "text/plain": [
              "defaultdict(<function __main__.<lambda>.<locals>.<lambda>>,\n",
              "            {'after': 0.0,\n",
              "             'author': 2.369617709574914e-06,\n",
              "             'clause': 4.739235419149828e-06,\n",
              "             'end': 4.739235419149828e-06,\n",
              "             'fact': 4.739235419149828e-06,\n",
              "             'first': 2.369617709574914e-06,\n",
              "             'form': 7.108853128724743e-06,\n",
              "             'letter': 2.369617709574914e-06,\n",
              "             'noun': 7.108853128724743e-06,\n",
              "             's': 9.478470838299657e-06,\n",
              "             'strange': 2.369617709574914e-06,\n",
              "             'the': 0.0,\n",
              "             'thing': 7.108853128724743e-06,\n",
              "             'truth': 1.4217706257449485e-05,\n",
              "             'word': 4.739235419149828e-06})"
            ]
          },
          "metadata": {
            "tags": []
          },
          "execution_count": 87
        }
      ]
    },
    {
      "cell_type": "code",
      "metadata": {
        "id": "TVKnc-5QKs8i"
      },
      "source": [
        ""
      ],
      "execution_count": null,
      "outputs": []
    }
  ]
}